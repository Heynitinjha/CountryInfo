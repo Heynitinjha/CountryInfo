{
 "cells": [
  {
   "cell_type": "code",
   "execution_count": 1,
   "id": "626dc697",
   "metadata": {},
   "outputs": [
    {
     "name": "stdout",
     "output_type": "stream",
     "text": [
      "Collecting countryinfo\n",
      "  Downloading countryinfo-0.1.2-py3-none-any.whl (602 kB)\n",
      "     -------------------------------------- 602.2/602.2 kB 2.7 MB/s eta 0:00:00\n",
      "Installing collected packages: countryinfo\n",
      "Successfully installed countryinfo-0.1.2\n",
      "Note: you may need to restart the kernel to use updated packages.\n"
     ]
    }
   ],
   "source": [
    "pip install countryinfo"
   ]
  },
  {
   "cell_type": "code",
   "execution_count": 9,
   "id": "5496f890",
   "metadata": {},
   "outputs": [
    {
     "name": "stdout",
     "output_type": "stream",
     "text": [
      "Enter your country : India\n",
      "Capital is : New Delhi\n",
      "Currencies is : ['INR']\n",
      "language is :  ['hi', 'en']\n",
      " Borders are :  ['AFG', 'BGD', 'BTN', 'MMR', 'CHN', 'NPL', 'PAK', 'LKA']\n",
      "others names :  ['IN', 'Bhārat', 'Republic of India', 'Bharat Ganrajya']\n"
     ]
    }
   ],
   "source": [
    "from countryinfo import CountryInfo\n",
    "Count = input(\"Enter your country : \")\n",
    "country = CountryInfo(Count)\n",
    "print(\"Capital is :\",country.capital())\n",
    "print(\"Currencies is :\",country.currencies())\n",
    "print(\"language is : \", country.languages())\n",
    "print(\" Borders are : \",country.borders())\n",
    "print(\"others names : \",country.alt_spellings())"
   ]
  },
  {
   "cell_type": "code",
   "execution_count": null,
   "id": "e3212b71",
   "metadata": {},
   "outputs": [],
   "source": []
  }
 ],
 "metadata": {
  "kernelspec": {
   "display_name": "Python 3 (ipykernel)",
   "language": "python",
   "name": "python3"
  },
  "language_info": {
   "codemirror_mode": {
    "name": "ipython",
    "version": 3
   },
   "file_extension": ".py",
   "mimetype": "text/x-python",
   "name": "python",
   "nbconvert_exporter": "python",
   "pygments_lexer": "ipython3",
   "version": "3.10.9"
  }
 },
 "nbformat": 4,
 "nbformat_minor": 5
}
